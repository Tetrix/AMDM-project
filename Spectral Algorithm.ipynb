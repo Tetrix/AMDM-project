{
 "cells": [
  {
   "cell_type": "code",
   "execution_count": 1,
   "metadata": {},
   "outputs": [],
   "source": [
    "import numpy as np\n",
    "from numpy import linalg as LA\n",
    "import pandas as pd\n",
    "import pickle\n",
    "from sklearn.cluster import KMeans\n",
    "import matplotlib.pyplot as plt\n",
    "from scipy.sparse import csgraph"
   ]
  },
  {
   "cell_type": "code",
   "execution_count": 2,
   "metadata": {},
   "outputs": [],
   "source": [
    "data_file = 'data/ca-GrQc.txt'\n",
    "# data_file = 'data/ca-HepTh.txt'"
   ]
  },
  {
   "cell_type": "code",
   "execution_count": 3,
   "metadata": {},
   "outputs": [],
   "source": [
    "data = pd.read_csv(data_file, sep = ' ', header = None)\n",
    "left_nodes = data[0].values\n",
    "right_nodes = data[1].values\n",
    "combined_nodes = np.concatenate((left_nodes, right_nodes), axis = 0)\n",
    "combined_nodes = np.unique(combined_nodes)"
   ]
  },
  {
   "cell_type": "code",
   "execution_count": 4,
   "metadata": {},
   "outputs": [],
   "source": [
    "def get_unique(arr):\n",
    "    unique = []\n",
    "    for i in arr:\n",
    "        if i not in unique:\n",
    "            unique.append(i)\n",
    "    return unique"
   ]
  },
  {
   "cell_type": "code",
   "execution_count": 5,
   "metadata": {},
   "outputs": [],
   "source": [
    "def get_graph(combined_nodes, left_nodes, right_nodes):\n",
    "    neighbors = []\n",
    "    graph = {}\n",
    "\n",
    "    for node in combined_nodes:\n",
    "        if node in left_nodes:\n",
    "            indices = np.where(left_nodes == node)\n",
    "            for index in indices:\n",
    "                neighbors.append(right_nodes[index])\n",
    "        if node in right_nodes:\n",
    "            indices = np.where(right_nodes == node)\n",
    "            for index in indices:\n",
    "                neighbors.append(left_nodes[index])\n",
    "\n",
    "        unique_neighbors = get_unique(neighbors[0])\n",
    "\n",
    "        unique_neighbors = np.array(unique_neighbors)\n",
    "        graph[node] = unique_neighbors\n",
    "        neighbors = []\n",
    "    \n",
    "    return graph\n",
    "\n",
    "\n",
    "graph = get_graph(combined_nodes, left_nodes, right_nodes)"
   ]
  },
  {
   "cell_type": "code",
   "execution_count": 6,
   "metadata": {},
   "outputs": [],
   "source": [
    "def get_adjacency_matrix(graph):\n",
    "    adjacency_matrix = np.zeros([len(graph), len(graph)])\n",
    "\n",
    "    for key, value in graph.items():\n",
    "        for neighbor in value:\n",
    "            adjacency_matrix[key][value] = 1\n",
    "    \n",
    "    return np.array(adjacency_matrix)\n",
    "    \n",
    "adjacency_matrix = get_adjacency_matrix(graph)"
   ]
  },
  {
   "cell_type": "code",
   "execution_count": 24,
   "metadata": {},
   "outputs": [
    {
     "name": "stderr",
     "output_type": "stream",
     "text": [
      "/usr/local/lib/python3.5/dist-packages/scipy/sparse/csgraph/_laplacian.py:72: FutureWarning: Conversion of the second argument of issubdtype from `int` to `np.signedinteger` is deprecated. In future, it will be treated as `np.int64 == np.dtype(int).type`.\n",
      "  if normed and (np.issubdtype(csgraph.dtype, int)\n"
     ]
    }
   ],
   "source": [
    "# get laplacian\n",
    "laplacian_matrix = csgraph.laplacian(adjacency_matrix, normed=True)"
   ]
  },
  {
   "cell_type": "code",
   "execution_count": 25,
   "metadata": {},
   "outputs": [],
   "source": [
    "def get_eigen(laplacian_matrix):\n",
    "    eig_values, eig_vectors = LA.eig(laplacian_matrix)\n",
    "    return eig_values, eig_vectors\n",
    "\n",
    "eig_values, eig_vectors = get_eigen(laplacian_matrix)"
   ]
  },
  {
   "cell_type": "code",
   "execution_count": 162,
   "metadata": {},
   "outputs": [],
   "source": [
    "def least_significat_eigens(k, eig_values, eig_vectors):\n",
    "    idx = eig_values.argsort()[:k]\n",
    "    eig_vectors = eig_vectors[:, idx]\n",
    "    eig_values = eig_values[idx]\n",
    "    \n",
    "    return eig_vectors, eig_values\n",
    "\n",
    "\n",
    "num_eigens = 20\n",
    "least_vectors, least_values = least_significat_eigens(num_eigens, eig_values, eig_vectors)\n",
    "\n",
    "least_values = least_values.real\n",
    "least_vectors = least_vectors.real"
   ]
  },
  {
   "cell_type": "code",
   "execution_count": 163,
   "metadata": {},
   "outputs": [
    {
     "data": {
      "text/plain": [
       "array([-3.27364651e-15, -3.27364651e-15])"
      ]
     },
     "execution_count": 163,
     "metadata": {},
     "output_type": "execute_result"
    }
   ],
   "source": [
    "least_values"
   ]
  },
  {
   "cell_type": "code",
   "execution_count": 100,
   "metadata": {},
   "outputs": [],
   "source": [
    "# # Norm 1\n",
    "# least_vectors_norm = []\n",
    "\n",
    "# first_vector = least_vectors[:, 0] / np.linalg.norm(least_vectors[:, 0])\n",
    "# second_vector = least_vectors[:, 1] / np.linalg.norm(least_vectors[:, 1])\n",
    "\n",
    "# least_vectors_norm.append(first_vector)\n",
    "# least_vectors_norm.append(second_vector)\n",
    "\n",
    "# least_vectors_norm = np.array(least_vectors_norm)\n",
    "# least_vectors_norm = least_vectors_norm.T\n",
    "\n",
    "# print(least_vectors_norm.shape)"
   ]
  },
  {
   "cell_type": "code",
   "execution_count": 165,
   "metadata": {},
   "outputs": [
    {
     "data": {
      "text/plain": [
       "Text(0.5, 1.0, 'Least significant eigenvelues')"
      ]
     },
     "execution_count": 165,
     "metadata": {},
     "output_type": "execute_result"
    },
    {
     "data": {
      "image/png": "[encoded data removed]",
      "text/plain": [
       "<Figure size 720x504 with 1 Axes>"
      ]
     },
     "metadata": {},
     "output_type": "display_data"
    }
   ],
   "source": [
    "# Visualize least significant eigenvalues\n",
    "plt.plot(least_values)\n",
    "plt.title('Least significant eigenvelues')"
   ]
  },
  {
   "cell_type": "code",
   "execution_count": 102,
   "metadata": {},
   "outputs": [
    {
     "data": {
      "image/png": "[encoded data removed]",
      "text/plain": [
       "<Figure size 720x504 with 1 Axes>"
      ]
     },
     "metadata": {},
     "output_type": "display_data"
    }
   ],
   "source": [
    "# Visualize least significant eigenvectors\n",
    "\n",
    "plt.rcParams[\"figure.figsize\"] = (10, 7)\n",
    "\n",
    "for i in range(len(least_values)):\n",
    "    plt.plot(least_vectors[:][i], label= str(i))\n",
    "\n",
    "plt.legend(loc='upper right')\n",
    "plt.title('Least significant eigenvectors')\n",
    "plt.show()"
   ]
  },
  {
   "cell_type": "code",
   "execution_count": 32,
   "metadata": {},
   "outputs": [
    {
     "data": {
      "image/png": "[encoded data removed]",
      "text/plain": [
       "<Figure size 720x288 with 1 Axes>"
      ]
     },
     "metadata": {},
     "output_type": "display_data"
    }
   ],
   "source": [
    "def elbow(least_vectors, num_clusters):\n",
    "    number_clusters = range(1, num_clusters)\n",
    "\n",
    "    kmeans = [KMeans(n_clusters = i) for i in number_clusters]\n",
    "\n",
    "    score = [kmeans[i].fit(least_vectors).score(least_vectors) for i in range(len(kmeans))]\n",
    "\n",
    "    score\n",
    "\n",
    "    plt.plot(number_clusters, score)\n",
    "    plt.xlabel('Number of Clusters')\n",
    "    plt.ylabel('Score')\n",
    "    plt.title('Elbow Curve')\n",
    "    plt.show()\n",
    "\n",
    "elbow(least_vectors, 30)"
   ]
  },
  {
   "cell_type": "code",
   "execution_count": 166,
   "metadata": {},
   "outputs": [
    {
     "data": {
      "text/plain": [
       "KMeans(algorithm='auto', copy_x=True, init='k-means++', max_iter=300,\n",
       "    n_clusters=2, n_init=10, n_jobs=None, precompute_distances='auto',\n",
       "    random_state=0, tol=0.0001, verbose=0)"
      ]
     },
     "execution_count": 166,
     "metadata": {},
     "output_type": "execute_result"
    }
   ],
   "source": [
    "num_clusters = 2\n",
    "\n",
    "kmeans = KMeans(\n",
    "    n_clusters = num_clusters, \n",
    "    random_state = 0\n",
    ")\n",
    "\n",
    "kmeans.fit(least_vectors)"
   ]
  },
  {
   "cell_type": "code",
   "execution_count": 167,
   "metadata": {},
   "outputs": [
    {
     "data": {
      "image/png": "[encoded data removed]",
      "text/plain": [
       "<Figure size 720x504 with 1 Axes>"
      ]
     },
     "metadata": {},
     "output_type": "display_data"
    }
   ],
   "source": [
    "# Visualize cluster distribution\n",
    "distribution = []\n",
    "clusters = np.arange(0, num_clusters)\n",
    "\n",
    "for cluster in range(num_clusters):\n",
    "\n",
    "    elements = np.where(kmeans.labels_ == cluster)[0]\n",
    "    elements = len(elements)\n",
    "    distribution.append(elements)\n",
    "    \n",
    "plt.bar(clusters, distribution)\n",
    "plt.xticks(clusters)\n",
    "# plt.yticks(np.arange(0, 3000, 500))\n",
    "plt.xlabel('number of clusters')\n",
    "plt.ylabel('number of elements')\n",
    "plt.title('Cluster distribution')\n",
    "plt.show()"
   ]
  },
  {
   "cell_type": "code",
   "execution_count": 168,
   "metadata": {},
   "outputs": [],
   "source": [
    "df = pd.DataFrame({'node' : combined_nodes, 'cluster' : kmeans.labels_})\n",
    "df = df[['node', 'cluster']]\n",
    "df.to_csv('output/ca-GrQc.output', index = False, sep = ' ')"
   ]
  },
  {
   "cell_type": "code",
   "execution_count": null,
   "metadata": {},
   "outputs": [],
   "source": []
  }
 ],
 "metadata": {
  "kernelspec": {
   "display_name": "Python 3",
   "language": "python",
   "name": "python3"
  },
  "language_info": {
   "codemirror_mode": {
    "name": "ipython",
    "version": 3
   },
   "file_extension": ".py",
   "mimetype": "text/x-python",
   "name": "python",
   "nbconvert_exporter": "python",
   "pygments_lexer": "ipython3",
   "version": "3.5.1+"
  }
 },
 "nbformat": 4,
 "nbformat_minor": 2
}
