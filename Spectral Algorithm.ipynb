{
 "cells": [
  {
   "cell_type": "code",
   "execution_count": 290,
   "metadata": {},
   "outputs": [],
   "source": [
    "import numpy as np\n",
    "from numpy import linalg as LA\n",
    "import pandas as pd\n",
    "import pickle\n",
    "from sklearn.cluster import KMeans\n",
    "import matplotlib.pyplot as plt"
   ]
  },
  {
   "cell_type": "code",
   "execution_count": 14,
   "metadata": {},
   "outputs": [],
   "source": [
    "data_file = 'data/ca-GrQc.txt'"
   ]
  },
  {
   "cell_type": "code",
   "execution_count": 80,
   "metadata": {},
   "outputs": [],
   "source": [
    "data = pd.read_csv(data_file, sep = ' ', header = None)\n",
    "left_nodes = data[0].values\n",
    "right_nodes = data[1].values\n",
    "combined_nodes = np.concatenate((left_nodes, right_nodes), axis = 0)\n",
    "combined_nodes = np.unique(combined_nodes)"
   ]
  },
  {
   "cell_type": "code",
   "execution_count": 126,
   "metadata": {},
   "outputs": [],
   "source": [
    "def get_unique(arr):\n",
    "    unique = []\n",
    "    for i in arr:\n",
    "        if i not in unique:\n",
    "            unique.append(i)\n",
    "    return unique"
   ]
  },
  {
   "cell_type": "code",
   "execution_count": 129,
   "metadata": {},
   "outputs": [],
   "source": [
    "def get_graph(combined_nodes, left_nodes, right_nodes):\n",
    "    neighbors = []\n",
    "    graph = {}\n",
    "\n",
    "    for node in combined_nodes:\n",
    "        if node in left_nodes:\n",
    "            indices = np.where(left_nodes == node)\n",
    "            for index in indices:\n",
    "                neighbors.append(right_nodes[index])\n",
    "        if node in right_nodes:\n",
    "            indices = np.where(right_nodes == node)\n",
    "            for index in indices:\n",
    "                neighbors.append(left_nodes[index])\n",
    "\n",
    "        unique_neighbors = get_unique(neighbors[0])\n",
    "\n",
    "        unique_neighbors = np.array(unique_neighbors)\n",
    "        graph[node] = unique_neighbors\n",
    "        neighbors = []\n",
    "    \n",
    "    return graph\n",
    "\n",
    "\n",
    "graph = get_graph(combined_nodes, left_nodes, right_nodes)"
   ]
  },
  {
   "cell_type": "code",
   "execution_count": 139,
   "metadata": {},
   "outputs": [],
   "source": [
    "def get_adjacency_matrix(graph):\n",
    "    adjacency_matrix = np.zeros([len(graph), len(graph)])\n",
    "\n",
    "    for key, value in graph.items():\n",
    "        for neighbor in value:\n",
    "            adjacency_matrix[key][value] = 1\n",
    "    \n",
    "    return np.array(adjacency_matrix)\n",
    "    \n",
    "adjacency_matrix = get_adjacency_matrix(graph)"
   ]
  },
  {
   "cell_type": "code",
   "execution_count": 172,
   "metadata": {},
   "outputs": [],
   "source": [
    "def get_degree_matrix(adjacency_matrix):\n",
    "    degree_matrix = np.zeros([len(adjacency_matrix), len(adjacency_matrix)])\n",
    "    \n",
    "    for row_index in range(len(adjacency_matrix)):\n",
    "        degree_matrix[row_index][row_index] = np.sum(adjacency_matrix[row_index])\n",
    "\n",
    "    return degree_matrix\n",
    "\n",
    "degree_matrix = get_degree_matrix(adjacency_matrix)"
   ]
  },
  {
   "cell_type": "code",
   "execution_count": 167,
   "metadata": {},
   "outputs": [],
   "source": [
    "def get_laplacian_matrix(adjacency_matrix, degree_matrix):\n",
    "    laplacian_matrix = np.subtract(degree_matrix, adjacency_matrix)\n",
    "    return laplacian_matrix\n",
    "\n",
    "laplacian_matrix = get_laplacian_matrix(adjacency_matrix, degree_matrix)"
   ]
  },
  {
   "cell_type": "code",
   "execution_count": 190,
   "metadata": {},
   "outputs": [],
   "source": [
    "def get_eigen(laplacian_matrix):\n",
    "    eig_values, eig_vectors = LA.eig(laplacian_matrix)\n",
    "    return eig_values, eig_vectors\n",
    "\n",
    "eig_values, eig_vectors = get_eigen(laplacian_matrix)"
   ]
  },
  {
   "cell_type": "code",
   "execution_count": 342,
   "metadata": {},
   "outputs": [],
   "source": [
    "def least_significat_vectors(k, eig_values, eig_vectors):\n",
    "    idx = eig_values.argsort()[:k]\n",
    "    eig_vectors = eig_vectors[:, idx]\n",
    "    eig_values = eig_values[idx]\n",
    "    \n",
    "    return eig_vectors, eig_values\n",
    "\n",
    "least_vectors, least_values = least_significat_vectors(5, eig_values, eig_vectors)\n",
    "\n",
    "least_values = least_values.real\n",
    "least_vectors = least_vectors.real"
   ]
  },
  {
   "cell_type": "code",
   "execution_count": 333,
   "metadata": {},
   "outputs": [
    {
     "data": {
      "text/plain": [
       "Text(0.5, 1.0, 'Eigenvelues')"
      ]
     },
     "execution_count": 333,
     "metadata": {},
     "output_type": "execute_result"
    },
    {
     "data": {
      "image/png": "[encoded data removed]",
      "text/plain": [
       "<Figure size 432x288 with 1 Axes>"
      ]
     },
     "metadata": {},
     "output_type": "display_data"
    }
   ],
   "source": [
    "plt.plot(least_values)\n",
    "plt.title('Eigenvelues')"
   ]
  },
  {
   "cell_type": "code",
   "execution_count": 353,
   "metadata": {},
   "outputs": [
    {
     "data": {
      "image/png": "[encoded data removed]",
      "text/plain": [
       "<Figure size 432x288 with 1 Axes>"
      ]
     },
     "metadata": {},
     "output_type": "display_data"
    }
   ],
   "source": [
    "def elbow(least_vectors, num_clusters):\n",
    "    number_clusters = range(1, num_clusters)\n",
    "\n",
    "    kmeans = [KMeans(n_clusters = i) for i in number_clusters]\n",
    "\n",
    "    score = [kmeans[i].fit(least_vectors).score(least_vectors) for i in range(len(kmeans))]\n",
    "\n",
    "    score\n",
    "\n",
    "    plt.plot(number_clusters, score)\n",
    "    plt.xlabel('Number of Clusters')\n",
    "    plt.ylabel('Score')\n",
    "    plt.title('Elbow Curve')\n",
    "    plt.show()\n",
    "\n",
    "elbow(least_vectors, 30)"
   ]
  },
  {
   "cell_type": "code",
   "execution_count": 354,
   "metadata": {},
   "outputs": [
    {
     "data": {
      "text/plain": [
       "KMeans(algorithm='auto', copy_x=True, init='k-means++', max_iter=300,\n",
       "    n_clusters=20, n_init=10, n_jobs=None, precompute_distances='auto',\n",
       "    random_state=0, tol=0.0001, verbose=0)"
      ]
     },
     "execution_count": 354,
     "metadata": {},
     "output_type": "execute_result"
    }
   ],
   "source": [
    "kmeans = KMeans(\n",
    "    n_clusters = 20, \n",
    "    random_state = 0\n",
    ")\n",
    "\n",
    "kmeans.fit(least_vectors)"
   ]
  },
  {
   "cell_type": "code",
   "execution_count": 357,
   "metadata": {},
   "outputs": [
    {
     "data": {
      "text/html": [
       "<div>\n",
       "<style scoped>\n",
       "    .dataframe tbody tr th:only-of-type {\n",
       "        vertical-align: middle;\n",
       "    }\n",
       "\n",
       "    .dataframe tbody tr th {\n",
       "        vertical-align: top;\n",
       "    }\n",
       "\n",
       "    .dataframe thead th {\n",
       "        text-align: right;\n",
       "    }\n",
       "</style>\n",
       "<table border=\"1\" class=\"dataframe\">\n",
       "  <thead>\n",
       "    <tr style=\"text-align: right;\">\n",
       "      <th></th>\n",
       "      <th>node</th>\n",
       "      <th>cluster</th>\n",
       "    </tr>\n",
       "  </thead>\n",
       "  <tbody>\n",
       "    <tr>\n",
       "      <th>0</th>\n",
       "      <td>0</td>\n",
       "      <td>11</td>\n",
       "    </tr>\n",
       "    <tr>\n",
       "      <th>1</th>\n",
       "      <td>1</td>\n",
       "      <td>11</td>\n",
       "    </tr>\n",
       "    <tr>\n",
       "      <th>2</th>\n",
       "      <td>2</td>\n",
       "      <td>11</td>\n",
       "    </tr>\n",
       "    <tr>\n",
       "      <th>3</th>\n",
       "      <td>3</td>\n",
       "      <td>11</td>\n",
       "    </tr>\n",
       "    <tr>\n",
       "      <th>4</th>\n",
       "      <td>4</td>\n",
       "      <td>11</td>\n",
       "    </tr>\n",
       "  </tbody>\n",
       "</table>\n",
       "</div>"
      ],
      "text/plain": [
       "   node  cluster\n",
       "0     0       11\n",
       "1     1       11\n",
       "2     2       11\n",
       "3     3       11\n",
       "4     4       11"
      ]
     },
     "execution_count": 357,
     "metadata": {},
     "output_type": "execute_result"
    }
   ],
   "source": [
    "df = pd.DataFrame({'node' : combined_nodes, 'cluster' : kmeans.labels_})\n",
    "df = df[['node', 'cluster']]\n",
    "df.to_csv('clusters.csv', index = False)"
   ]
  }
 ],
 "metadata": {
  "kernelspec": {
   "display_name": "Python 3",
   "language": "python",
   "name": "python3"
  },
  "language_info": {
   "codemirror_mode": {
    "name": "ipython",
    "version": 3
   },
   "file_extension": ".py",
   "mimetype": "text/x-python",
   "name": "python",
   "nbconvert_exporter": "python",
   "pygments_lexer": "ipython3",
   "version": "3.5.1+"
  }
 },
 "nbformat": 4,
 "nbformat_minor": 2
}
