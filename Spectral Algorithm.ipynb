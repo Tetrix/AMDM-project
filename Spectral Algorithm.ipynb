{
 "cells": [
  {
   "cell_type": "code",
   "execution_count": 42,
   "metadata": {},
   "outputs": [],
   "source": [
    "import warnings\n",
    "warnings.filterwarnings('ignore')\n",
    "\n",
    "import os\n",
    "\n",
    "import numpy as np\n",
    "from numpy import linalg as LA\n",
    "import pandas as pd\n",
    "import pickle\n",
    "from sklearn.cluster import KMeans\n",
    "from sklearn.preprocessing import normalize\n",
    "import matplotlib.pyplot as plt\n",
    "from scipy.sparse import csgraph"
   ]
  },
  {
   "cell_type": "code",
   "execution_count": 43,
   "metadata": {},
   "outputs": [],
   "source": [
    "def get_nodes(data_file):\n",
    "    data = pd.read_csv(data_file, sep = ' ', header = None)\n",
    "    left_nodes = data[0].values\n",
    "    right_nodes = data[1].values\n",
    "    combined_nodes = np.concatenate((left_nodes, right_nodes), axis = 0)\n",
    "    combined_nodes = np.unique(combined_nodes)\n",
    "    \n",
    "    return left_nodes, right_nodes, combined_nodes"
   ]
  },
  {
   "cell_type": "code",
   "execution_count": 44,
   "metadata": {},
   "outputs": [],
   "source": [
    "def get_unique(arr):\n",
    "    unique = []\n",
    "    for i in arr:\n",
    "        if i not in unique:\n",
    "            unique.append(i)\n",
    "    return unique"
   ]
  },
  {
   "cell_type": "code",
   "execution_count": 45,
   "metadata": {},
   "outputs": [],
   "source": [
    "def get_graph(combined_nodes, left_nodes, right_nodes):\n",
    "    neighbors = []\n",
    "    graph = {}\n",
    "    \n",
    "    for node in combined_nodes:\n",
    "        if node in left_nodes:\n",
    "            indices = np.where(left_nodes == node)\n",
    "            for index in indices:\n",
    "                neighbors.append(right_nodes[index])\n",
    "        if node in right_nodes:\n",
    "            indices = np.where(right_nodes == node)\n",
    "            for index in indices:\n",
    "                neighbors.append(left_nodes[index])\n",
    "\n",
    "        unique_neighbors = get_unique(neighbors[0])\n",
    "\n",
    "        unique_neighbors = np.array(unique_neighbors)\n",
    "        graph[node] = unique_neighbors\n",
    "        neighbors = []\n",
    "    \n",
    "    return graph"
   ]
  },
  {
   "cell_type": "code",
   "execution_count": 46,
   "metadata": {},
   "outputs": [],
   "source": [
    "def get_adjacency_matrix(graph):\n",
    "    adjacency_matrix = np.zeros([len(graph), len(graph)])\n",
    "\n",
    "    for key, value in graph.items():\n",
    "        for neighbor in value:\n",
    "            adjacency_matrix[key][value] = 1\n",
    "    \n",
    "    return np.array(adjacency_matrix)"
   ]
  },
  {
   "cell_type": "code",
   "execution_count": 47,
   "metadata": {},
   "outputs": [],
   "source": [
    "def get_degree_matrix(adjacency_matrix):\n",
    "    degree_matrix = np.zeros([len(adjacency_matrix), len(adjacency_matrix)])\n",
    "    \n",
    "    for row_index in range(len(adjacency_matrix)):\n",
    "        degree_matrix[row_index][row_index] = np.sum(adjacency_matrix[row_index])\n",
    "\n",
    "    return degree_matrix"
   ]
  },
  {
   "cell_type": "code",
   "execution_count": 48,
   "metadata": {},
   "outputs": [],
   "source": [
    "def get_laplacian_matrix(adjacency_matrix, degree_matrix):\n",
    "    laplacian_matrix = np.subtract(degree_matrix, adjacency_matrix)\n",
    "    return laplacian_matrix"
   ]
  },
  {
   "cell_type": "code",
   "execution_count": 49,
   "metadata": {},
   "outputs": [],
   "source": [
    "def get_eigen(laplacian_matrix):\n",
    "    eig_values, eig_vectors = LA.eig(laplacian_matrix)\n",
    "    return eig_values, eig_vectors"
   ]
  },
  {
   "cell_type": "code",
   "execution_count": 50,
   "metadata": {},
   "outputs": [],
   "source": [
    "def least_significat_eigens(k, eig_values, eig_vectors):\n",
    "    idx = eig_values.argsort()[:k]\n",
    "    eig_vectors = eig_vectors[:, idx]\n",
    "    eig_values = eig_values[idx]\n",
    "    \n",
    "    return eig_vectors, eig_values"
   ]
  },
  {
   "cell_type": "code",
   "execution_count": 51,
   "metadata": {},
   "outputs": [],
   "source": [
    "# Use L1 normalization\n",
    "def normalize_vectors(least_vectors):\n",
    "    least_vectors_norm = normalize(\n",
    "        least_vectors, \n",
    "        norm = 'l1'\n",
    "    )\n",
    "    return least_vectors_norm"
   ]
  },
  {
   "cell_type": "code",
   "execution_count": 52,
   "metadata": {},
   "outputs": [],
   "source": [
    "# Visualize least significant eigenvalues\n",
    "def visualize_eigenvalues(least_values):\n",
    "    plt.plot(least_values)\n",
    "    plt.title('Least significant eigenvelues')\n",
    "    plt.show()"
   ]
  },
  {
   "cell_type": "code",
   "execution_count": 53,
   "metadata": {},
   "outputs": [],
   "source": [
    "# Visualize least significant eigenvectors\n",
    "def visualize_eigenvectors(least_vectors):\n",
    "    plt.rcParams[\"figure.figsize\"] = (10, 7)\n",
    "\n",
    "    for i in range(least_vectors.shape[1]):\n",
    "        plt.plot(least_vectors[:][i], label= str(i))\n",
    "\n",
    "    plt.legend(loc='upper right')\n",
    "    plt.title('Least significant eigenvectors')\n",
    "    plt.show()"
   ]
  },
  {
   "cell_type": "code",
   "execution_count": 54,
   "metadata": {},
   "outputs": [],
   "source": [
    "def cluster_graph(k, least_vectors):\n",
    "    kmeans = KMeans(\n",
    "        n_clusters = k, \n",
    "        random_state = 0\n",
    "    )\n",
    "    \n",
    "    kmeans.fit(least_vectors)\n",
    "    \n",
    "    return kmeans"
   ]
  },
  {
   "cell_type": "code",
   "execution_count": 55,
   "metadata": {},
   "outputs": [],
   "source": [
    "# Visualize cluster distribution\n",
    "def visualize_class_distribution(k, kmeans):\n",
    "    distribution = []\n",
    "    clusters = np.arange(0, k)\n",
    "\n",
    "    for cluster in range(k):\n",
    "\n",
    "        elements = np.where(kmeans.labels_ == cluster)[0]\n",
    "        elements = len(elements)\n",
    "        distribution.append(elements)\n",
    "\n",
    "    plt.bar(clusters, distribution)\n",
    "    plt.xticks(clusters)\n",
    "    plt.xlabel('number of clusters')\n",
    "    plt.ylabel('number of elements')\n",
    "    plt.title('Cluster distribution')\n",
    "    plt.show()"
   ]
  },
  {
   "cell_type": "code",
   "execution_count": 56,
   "metadata": {},
   "outputs": [],
   "source": [
    "def save_output(combined_nodes, kmeans, file_name):\n",
    "    df = pd.DataFrame({'node' : combined_nodes, 'cluster' : kmeans.labels_})\n",
    "    df = df[['node', 'cluster']]\n",
    "    df.to_csv(os.path.join('output', file_name.split('.')[0] + '.output'), index = False, sep = ' ')"
   ]
  },
  {
   "cell_type": "code",
   "execution_count": 57,
   "metadata": {},
   "outputs": [],
   "source": [
    "def main(k, file_name):\n",
    "    \n",
    "    data_file = os.path.join('data', file_name)\n",
    "   \n",
    "    left_nodes, right_nodes, combined_nodes = get_nodes(data_file)\n",
    "    \n",
    "    graph = get_graph(combined_nodes, left_nodes, right_nodes)\n",
    "    adjacency_matrix = get_adjacency_matrix(graph)\n",
    "    \n",
    "    if file_name == 'ca-GrQc.txt':\n",
    "        degree_matrix = get_degree_matrix(adjacency_matrix)\n",
    "        laplacian_matrix = get_laplacian_matrix(adjacency_matrix, degree_matrix)\n",
    "    else:\n",
    "        laplacian_matrix = csgraph.laplacian(adjacency_matrix, normed=True)\n",
    "    \n",
    "    eig_values, eig_vectors = get_eigen(laplacian_matrix)\n",
    "    \n",
    "    least_vectors, least_values = least_significat_eigens(k, eig_values, eig_vectors)\n",
    "    least_values = least_values.real\n",
    "    least_vectors = least_vectors.real\n",
    "    \n",
    "    if file_name !='ca-GrQc.txt':\n",
    "        least_vectors = normalize_vectors(least_vectors)\n",
    "    \n",
    "    visualize_eigenvalues(least_values)\n",
    "    visualize_eigenvectors(least_vectors)\n",
    "    \n",
    "    kmeans = cluster_graph(k, least_vectors)\n",
    "    \n",
    "    visualize_class_distribution(k, kmeans)\n",
    "    \n",
    "    save_output(combined_nodes, kmeans, file_name)"
   ]
  },
  {
   "cell_type": "code",
   "execution_count": 58,
   "metadata": {},
   "outputs": [
    {
     "data": {
      "image/png": "[encoded data removed]",
      "text/plain": [
       "<Figure size 720x504 with 1 Axes>"
      ]
     },
     "metadata": {},
     "output_type": "display_data"
    },
    {
     "data": {
      "image/png": "[encoded data removed]",
      "text/plain": [
       "<Figure size 720x504 with 1 Axes>"
      ]
     },
     "metadata": {},
     "output_type": "display_data"
    },
    {
     "data": {
      "image/png": "[encoded data removed]",
      "text/plain": [
       "<Figure size 720x504 with 1 Axes>"
      ]
     },
     "metadata": {},
     "output_type": "display_data"
    }
   ],
   "source": [
    "k = 2\n",
    "file_array = ['ca-AstroPh.txt', 'ca-CondMat.txt', 'ca-GrQc.txt', 'ca-HepPh.txt', 'ca-HepTh.txt']\n",
    "file_name = file_array[2]\n",
    "\n",
    "\n",
    "main(k, file_name)"
   ]
  }
 ],
 "metadata": {
  "kernelspec": {
   "display_name": "Python 3",
   "language": "python",
   "name": "python3"
  },
  "language_info": {
   "codemirror_mode": {
    "name": "ipython",
    "version": 3
   },
   "file_extension": ".py",
   "mimetype": "text/x-python",
   "name": "python",
   "nbconvert_exporter": "python",
   "pygments_lexer": "ipython3",
   "version": "3.5.1+"
  }
 },
 "nbformat": 4,
 "nbformat_minor": 2
}
