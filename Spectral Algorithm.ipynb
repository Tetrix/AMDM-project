{
 "cells": [
  {
   "cell_type": "markdown",
   "metadata": {},
   "source": [
    "<center><h1>Spectral Clustering Algorithm For Community Detection In Graphs</h1></center>"
   ]
  },
  {
   "cell_type": "markdown",
   "metadata": {},
   "source": [
    "<h3>How to run the algorithm</h3>\n",
    "\n",
    "By running all the cells, you will get the partitioned graphs and they will be stored in an \"output\" directory which will be created automatically.\n",
    "\n",
    "If you want to run the partitioning separately for every graph and not all at once, you can change that in the last cell."
   ]
  },
  {
   "cell_type": "code",
   "execution_count": 1,
   "metadata": {},
   "outputs": [],
   "source": [
    "import warnings\n",
    "warnings.filterwarnings('ignore')\n",
    "\n",
    "import os\n",
    "\n",
    "import numpy as np\n",
    "from numpy import linalg as LA\n",
    "import pandas as pd\n",
    "\n",
    "from sklearn.cluster import KMeans\n",
    "from sklearn.preprocessing import normalize\n",
    "\n",
    "import matplotlib.pyplot as plt\n",
    "\n",
    "from scipy import sparse\n",
    "from scipy.sparse import csgraph\n",
    "from scipy.sparse.linalg import eigsh"
   ]
  },
  {
   "cell_type": "code",
   "execution_count": 2,
   "metadata": {},
   "outputs": [],
   "source": [
    "def get_nodes(data_file):\n",
    "    data = pd.read_csv(data_file, sep = ' ', header = None)\n",
    "    left_nodes = data[0].values\n",
    "    right_nodes = data[1].values\n",
    "    combined_nodes = np.concatenate((left_nodes, right_nodes), axis = 0)\n",
    "    combined_nodes = np.unique(combined_nodes)\n",
    "    \n",
    "    return left_nodes, right_nodes, combined_nodes"
   ]
  },
  {
   "cell_type": "code",
   "execution_count": 3,
   "metadata": {},
   "outputs": [],
   "source": [
    "def get_unique(arr):\n",
    "    unique = []\n",
    "    for i in arr:\n",
    "        if i not in unique:\n",
    "            unique.append(i)\n",
    "    return unique"
   ]
  },
  {
   "cell_type": "code",
   "execution_count": 4,
   "metadata": {},
   "outputs": [],
   "source": [
    "def get_graph(combined_nodes, left_nodes, right_nodes):\n",
    "    neighbors = []\n",
    "    graph = {}\n",
    "    \n",
    "    for node in combined_nodes:\n",
    "        if node in left_nodes:\n",
    "            indices = np.where(left_nodes == node)\n",
    "            for index in indices:\n",
    "                neighbors.append(right_nodes[index])\n",
    "        if node in right_nodes:\n",
    "            indices = np.where(right_nodes == node)\n",
    "            for index in indices:\n",
    "                neighbors.append(left_nodes[index])\n",
    "\n",
    "        unique_neighbors = get_unique(neighbors[0])\n",
    "\n",
    "        unique_neighbors = np.array(unique_neighbors)\n",
    "        graph[node] = unique_neighbors\n",
    "        neighbors = []\n",
    "    \n",
    "    return graph"
   ]
  },
  {
   "cell_type": "code",
   "execution_count": 5,
   "metadata": {},
   "outputs": [],
   "source": [
    "def get_adjacency_matrix(graph):\n",
    "    adjacency_matrix = np.zeros([len(graph), len(graph)])\n",
    "\n",
    "    for key, value in graph.items():\n",
    "        for neighbor in value:\n",
    "            adjacency_matrix[key][value] = 1\n",
    "    \n",
    "    return np.array(adjacency_matrix)"
   ]
  },
  {
   "cell_type": "code",
   "execution_count": 6,
   "metadata": {},
   "outputs": [],
   "source": [
    "def get_eigen(laplacian_matrix, k):\n",
    "    eigen_values, eigen_vectors = eigsh(laplacian_matrix, k = k, which = 'LA')\n",
    "    return eigen_values, eigen_vectors"
   ]
  },
  {
   "cell_type": "code",
   "execution_count": 7,
   "metadata": {},
   "outputs": [],
   "source": [
    "# Use L2 normalization\n",
    "def normalize_vectors(eigen_vectors):\n",
    "    eigen_vectors_norm = normalize(\n",
    "        eigen_vectors, \n",
    "        norm = 'l2'\n",
    "    )\n",
    "    return eigen_vectors_norm"
   ]
  },
  {
   "cell_type": "code",
   "execution_count": 8,
   "metadata": {},
   "outputs": [],
   "source": [
    "# Visualize eigenvalues\n",
    "def visualize_eigenvalues(eigen_values):\n",
    "    plt.plot(eigen_values)\n",
    "    plt.title('Eigenvelues')\n",
    "    plt.show()"
   ]
  },
  {
   "cell_type": "code",
   "execution_count": 9,
   "metadata": {},
   "outputs": [],
   "source": [
    "# Visualize eigenvectors\n",
    "def visualize_eigenvectors(eigen_vectors):\n",
    "    plt.rcParams[\"figure.figsize\"] = (10, 7)\n",
    "\n",
    "    for i in range(eigen_vectors.shape[1]):\n",
    "        plt.plot(eigen_vectors[:][i], label= str(i))\n",
    "\n",
    "    plt.legend(loc='upper right')\n",
    "    plt.title('Eigenvectors')\n",
    "    plt.show()"
   ]
  },
  {
   "cell_type": "code",
   "execution_count": 10,
   "metadata": {},
   "outputs": [],
   "source": [
    "def cluster_graph(k, eigen_vectors):\n",
    "    kmeans = KMeans(\n",
    "        n_clusters = k\n",
    "    )\n",
    "    \n",
    "    kmeans.fit(eigen_vectors)\n",
    "    \n",
    "    return kmeans"
   ]
  },
  {
   "cell_type": "code",
   "execution_count": 11,
   "metadata": {},
   "outputs": [],
   "source": [
    "# Visualize cluster distribution\n",
    "def visualize_class_distribution(k, kmeans):\n",
    "    distribution = []\n",
    "    clusters = np.arange(0, k)\n",
    "\n",
    "    for cluster in range(k):\n",
    "\n",
    "        elements = np.where(kmeans.labels_ == cluster)[0]\n",
    "        elements = len(elements)\n",
    "        distribution.append(elements)\n",
    "\n",
    "    plt.bar(clusters, distribution)\n",
    "    plt.xticks(clusters)\n",
    "    plt.xlabel('number of clusters')\n",
    "    plt.ylabel('number of elements')\n",
    "    plt.title('Cluster distribution')\n",
    "    plt.show()"
   ]
  },
  {
   "cell_type": "code",
   "execution_count": 12,
   "metadata": {},
   "outputs": [],
   "source": [
    "def save_output(combined_nodes, kmeans, file_name):\n",
    "    if not os.path.exists('output'):\n",
    "        os.makedirs('output')\n",
    "    \n",
    "    df = pd.DataFrame({'node' : combined_nodes, 'cluster' : kmeans.labels_})\n",
    "    df = df[['node', 'cluster']]\n",
    "    df.to_csv(os.path.join('output', file_name.split('.')[0] + '.output'), index = False, sep = ' ')"
   ]
  },
  {
   "cell_type": "code",
   "execution_count": 13,
   "metadata": {},
   "outputs": [],
   "source": [
    "def main(k, file_name):\n",
    "    \n",
    "    data_file = os.path.join('data', file_name)\n",
    "   \n",
    "    left_nodes, right_nodes, combined_nodes = get_nodes(data_file)\n",
    "    \n",
    "    graph = get_graph(combined_nodes, left_nodes, right_nodes)\n",
    "    adjacency_matrix = get_adjacency_matrix(graph)\n",
    "\n",
    "    adjacency_matrix = sparse.csr_matrix(adjacency_matrix)\n",
    "    laplacian_matrix = csgraph.laplacian(adjacency_matrix, normed=True)\n",
    "    \n",
    "    eigen_values, eigen_vectors = get_eigen(laplacian_matrix, k)\n",
    "    eigen_values = eigen_values.real\n",
    "    eigen_vectors = eigen_vectors.real\n",
    "    eigen_vectors = normalize_vectors(eigen_vectors)\n",
    "\n",
    "    visualize_eigenvalues(eigen_values)\n",
    "    visualize_eigenvectors(eigen_vectors)\n",
    "    kmeans = cluster_graph(k, eigen_vectors)\n",
    "    \n",
    "    visualize_class_distribution(k, kmeans)\n",
    "    \n",
    "    save_output(combined_nodes, kmeans, file_name)"
   ]
  },
  {
   "cell_type": "code",
   "execution_count": 15,
   "metadata": {},
   "outputs": [],
   "source": [
    "k = [50, 100, 2, 25, 20]\n",
    "file_array = ['ca-AstroPh.txt', 'ca-CondMat.txt', 'ca-GrQc.txt', 'ca-HepPh.txt', 'ca-HepTh.txt']\n",
    "\n",
    "for graph in range(len(file_array)):\n",
    "    main(k[graph], file_array[graph])"
   ]
  }
 ],
 "metadata": {
  "kernelspec": {
   "display_name": "Python 3",
   "language": "python",
   "name": "python3"
  },
  "language_info": {
   "codemirror_mode": {
    "name": "ipython",
    "version": 3
   },
   "file_extension": ".py",
   "mimetype": "text/x-python",
   "name": "python",
   "nbconvert_exporter": "python",
   "pygments_lexer": "ipython3",
   "version": "3.5.1+"
  }
 },
 "nbformat": 4,
 "nbformat_minor": 2
}
